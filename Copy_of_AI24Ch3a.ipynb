{
  "nbformat": 4,
  "nbformat_minor": 0,
  "metadata": {
    "colab": {
      "provenance": [],
      "include_colab_link": true
    },
    "kernelspec": {
      "name": "python3",
      "display_name": "Python 3"
    }
  },
  "cells": [
    {
      "cell_type": "markdown",
      "metadata": {
        "id": "view-in-github",
        "colab_type": "text"
      },
      "source": [
        "<a href=\"https://colab.research.google.com/github/wockeshuh/CSCI164/blob/main/Copy_of_AI24Ch3a.ipynb\" target=\"_parent\"><img src=\"https://colab.research.google.com/assets/colab-badge.svg\" alt=\"Open In Colab\"/></a>"
      ]
    },
    {
      "cell_type": "code",
      "source": [
        "#Freddy Barrita\n",
        "# 7/31/24\n"
      ],
      "metadata": {
        "id": "05q5fU-viwNm"
      },
      "execution_count": null,
      "outputs": []
    },
    {
      "cell_type": "code",
      "metadata": {
        "id": "Gbe5KqWcISTq"
      },
      "source": [
        "import random\n",
        "import heapq\n"
      ],
      "execution_count": 108,
      "outputs": []
    },
    {
      "cell_type": "markdown",
      "metadata": {
        "id": "PHnbnN2uV8zr"
      },
      "source": [
        "# Tile Sliding Domain: Initial State Space"
      ]
    },
    {
      "cell_type": "code",
      "metadata": {
        "id": "jPCNOa4W-5yq"
      },
      "source": [
        "StateDimension=3\n",
        "InitialState = [1,2,3,4,5,6,7,8,13,14,9,12,10,11,15,0]\n",
        "GoalState=[1,2,3,4,5,6,7,8,9,10,11,12,13,14,15,0]\n",
        "Actions = lambda s: ['u', 'd', 'l', 'r']\n",
        "Opposite=dict([('u','d'),('d','u'),('l','r'),('r','l'), (None, None)])"
      ],
      "execution_count": 109,
      "outputs": []
    },
    {
      "cell_type": "code",
      "metadata": {
        "id": "XjnzkkC8_HE8"
      },
      "source": [
        "def Result(state, action):\n",
        "  newState = list(state).copy()\n",
        "  row, col = divmod(newState.index(0), StateDimension)\n",
        "  if action=='u' :\n",
        "    l,r = row*StateDimension+col, (row-1)*StateDimension+col\n",
        "  elif action=='d' :\n",
        "    l,r = row*StateDimension+col, (row+1)*StateDimension+col\n",
        "  elif action=='l' :\n",
        "    l,r = row*StateDimension+col, row*StateDimension+col-1\n",
        "  elif action=='r' :\n",
        "    l,r = row*StateDimension+col, row*StateDimension+col+1\n",
        "  # Check if indices are within bounds before swapping\n",
        "  if 0 <= l < len(newState) and 0 <= r < len(newState):\n",
        "    newState[l], newState[r] = newState[r], newState[l]\n",
        "  return tuple(newState)\n",
        "\n",
        "def PrintState(s):\n",
        "  for i in range(0,len(s),StateDimension):\n",
        "    print(s[i:i+StateDimension])\n",
        "\n",
        "def LegalMove(state, action):\n",
        "  i = state.index(0)\n",
        "  row,col=i//StateDimension, i % StateDimension\n",
        "  newState = state.copy()\n",
        "  if ( (action=='u' and row==0) or\n",
        "       (action=='d' and row==StateDimension-1) or\n",
        "       (action=='l' and col==0) or\n",
        "       (action=='r' and col==StateDimension-1)):\n",
        "      return False\n",
        "  return True\n"
      ],
      "execution_count": 110,
      "outputs": []
    },
    {
      "cell_type": "code",
      "metadata": {
        "colab": {
          "base_uri": "https://localhost:8080/"
        },
        "id": "bE7MrTAI_t6i",
        "outputId": "274f6aa7-ec6b-4049-d540-26e5656be78f"
      },
      "source": [
        "PrintState(InitialState)"
      ],
      "execution_count": 111,
      "outputs": [
        {
          "output_type": "stream",
          "name": "stdout",
          "text": [
            "[1, 2, 3]\n",
            "[4, 5, 6]\n",
            "[7, 8, 13]\n",
            "[14, 9, 12]\n",
            "[10, 11, 15]\n",
            "[0]\n"
          ]
        }
      ]
    },
    {
      "cell_type": "code",
      "metadata": {
        "colab": {
          "base_uri": "https://localhost:8080/"
        },
        "id": "wRULKFeXVcp3",
        "outputId": "aefb6b12-8a5a-4ae2-d442-069f0797bdbf"
      },
      "source": [
        "PrintState(GoalState)"
      ],
      "execution_count": 112,
      "outputs": [
        {
          "output_type": "stream",
          "name": "stdout",
          "text": [
            "[1, 2, 3]\n",
            "[4, 5, 6]\n",
            "[7, 8, 9]\n",
            "[10, 11, 12]\n",
            "[13, 14, 15]\n",
            "[0]\n"
          ]
        }
      ]
    },
    {
      "cell_type": "code",
      "metadata": {
        "colab": {
          "base_uri": "https://localhost:8080/"
        },
        "id": "j-EYW_gqGZtl",
        "outputId": "63e201f3-c42a-459c-e798-0eb91ecf20c3"
      },
      "source": [
        "PrintState(InitialState)\n",
        "print()\n",
        "state1 = Result(InitialState, 'u')\n",
        "PrintState(state1)\n",
        "print()\n",
        "state1 = Result(state1, 'r')\n",
        "PrintState(state1)"
      ],
      "execution_count": 113,
      "outputs": [
        {
          "output_type": "stream",
          "name": "stdout",
          "text": [
            "[1, 2, 3]\n",
            "[4, 5, 6]\n",
            "[7, 8, 13]\n",
            "[14, 9, 12]\n",
            "[10, 11, 15]\n",
            "[0]\n",
            "\n",
            "(1, 2, 3)\n",
            "(4, 5, 6)\n",
            "(7, 8, 13)\n",
            "(14, 9, 12)\n",
            "(0, 11, 15)\n",
            "(10,)\n",
            "\n",
            "(1, 2, 3)\n",
            "(4, 5, 6)\n",
            "(7, 8, 13)\n",
            "(14, 9, 12)\n",
            "(11, 0, 15)\n",
            "(10,)\n"
          ]
        }
      ]
    },
    {
      "cell_type": "code",
      "metadata": {
        "id": "Rc_8ohYvNIq-"
      },
      "source": [
        "def ApplyMoves(actions, state):\n",
        "  for action in actions:\n",
        "    state = Result(state, action)\n",
        "  return state"
      ],
      "execution_count": 114,
      "outputs": []
    },
    {
      "cell_type": "code",
      "metadata": {
        "colab": {
          "base_uri": "https://localhost:8080/"
        },
        "id": "Wv7MGqh8NXqy",
        "outputId": "5b2ddb07-4ac7-49cd-9fc2-99e3c03db4b5"
      },
      "source": [
        "PrintState(InitialState)\n",
        "print(['r','r'])\n",
        "PrintState(ApplyMoves(['r','r'],InitialState))"
      ],
      "execution_count": 115,
      "outputs": [
        {
          "output_type": "stream",
          "name": "stdout",
          "text": [
            "[1, 2, 3]\n",
            "[4, 5, 6]\n",
            "[7, 8, 13]\n",
            "[14, 9, 12]\n",
            "[10, 11, 15]\n",
            "[0]\n",
            "['r', 'r']\n",
            "(1, 2, 3)\n",
            "(4, 5, 6)\n",
            "(7, 8, 13)\n",
            "(14, 9, 12)\n",
            "(10, 11, 15)\n",
            "(0,)\n"
          ]
        }
      ]
    },
    {
      "cell_type": "markdown",
      "metadata": {
        "id": "8ABBDMJLROdo"
      },
      "source": [
        "## Problem Class\n",
        "\n",
        "INITIAL = InitialState  \n",
        "IsGoal = Goal Test  \n",
        "Actions = Actions List  \n",
        "Result = Action Behavior  \n",
        "ActionCost = Action Cost  "
      ]
    },
    {
      "cell_type": "code",
      "metadata": {
        "id": "fo6sq7myRQpE"
      },
      "source": [
        "class Problem(object): pass"
      ],
      "execution_count": 116,
      "outputs": []
    },
    {
      "cell_type": "markdown",
      "metadata": {
        "id": "aAHXlWteQ2LN"
      },
      "source": [
        "## Node"
      ]
    },
    {
      "cell_type": "code",
      "metadata": {
        "id": "URRYlfS9Q3vx"
      },
      "source": [
        "class Node(object):\n",
        "  def __init__(self, state, parent=None, action=None, path_cost=0 ):\n",
        "    self.State=state\n",
        "    self.Parent=parent\n",
        "    self.Action=action\n",
        "    self.PathCost = path_cost\n",
        "\n",
        "  def __str__(self):\n",
        "    action = \"<none>\" if not self.Action else self.Action\n",
        "    return str(self.State) + \", \" + action\n",
        "  def __repr__(self):\n",
        "    action = \"<none>\" if not self.Action else self.Action\n",
        "    return str(self.State) + \", \" + action\n",
        "  def __lt__(self, other):\n",
        "    return self.PathCost < other.PathCost;"
      ],
      "execution_count": 117,
      "outputs": []
    },
    {
      "cell_type": "markdown",
      "metadata": {
        "id": "LpzKnx4rkxL9"
      },
      "source": [
        "## Expand"
      ]
    },
    {
      "cell_type": "code",
      "metadata": {
        "id": "CRj9UnyHdDo_"
      },
      "source": [
        "def Expand(problem, node):\n",
        "  ret = []\n",
        "  s = node.State\n",
        "  for action in problem.Actions(s):\n",
        "    sPrime = problem.Result(s, action)\n",
        "    cost =node.PathCost + problem.ActionCost(s,action,sPrime)\n",
        "    ret.append(Node(sPrime, node, action, cost))\n",
        "  return ret\n"
      ],
      "execution_count": 118,
      "outputs": []
    },
    {
      "cell_type": "markdown",
      "metadata": {
        "id": "Ee2ZYxjVlBSl"
      },
      "source": [
        "## Breadth-First Search"
      ]
    },
    {
      "cell_type": "code",
      "metadata": {
        "id": "DZoCxoGzkt4E"
      },
      "source": [
        "def BreadthFirstSearch(problem):\n",
        "  node = Node(tuple(problem.INITIAL))\n",
        "  if problem.IsGoal(node.State):\n",
        "    return node, 0\n",
        "  Frontier = []\n",
        "  Frontier.append(node)\n",
        "  reached = set()\n",
        "  reached.add(tuple(problem.INITIAL))\n",
        "  nodesExpanded = 0\n",
        "  while (Frontier):\n",
        "    ### print([str(n) for n in Frontier])\n",
        "    node = Frontier.pop(0)\n",
        "    ### print(node)\n",
        "    for child in Expand(problem, node):\n",
        "      s = tuple(child.State)\n",
        "      ### print (s, \"IsGoal=\", problem.IsGoal(s))\n",
        "      if problem.IsGoal(s):\n",
        "        return child, nodesExpanded\n",
        "      if s not in reached:\n",
        "        reached.add(s)\n",
        "        Frontier.append(child)\n",
        "    nodesExpanded += 1\n",
        "    if nodesExpanded > 500000:\n",
        "      break;\n",
        "  return None, nodesExpanded"
      ],
      "execution_count": 119,
      "outputs": []
    },
    {
      "cell_type": "markdown",
      "metadata": {
        "id": "AoX48XG6lFOf"
      },
      "source": [
        "## Best-First Search"
      ]
    },
    {
      "cell_type": "code",
      "metadata": {
        "id": "lUIAdr_qa1KT"
      },
      "source": [
        "def BestFirstSearch(problem, f):\n",
        "  node = Node(tuple(problem.INITIAL))\n",
        "  Frontier = []\n",
        "  heapq.heappush(Frontier,(f(node), node))\n",
        "  reached = {}\n",
        "  reached[tuple(problem.INITIAL)]=node\n",
        "  nodesExpanded = 0\n",
        "  while (Frontier):\n",
        "    ##print([(x, str(n)) for (x,n) in Frontier])\n",
        "    fValue, node = heapq.heappop(Frontier)\n",
        "    ##print (node.State, \"IsGoal=\", problem.IsGoal(tuple(node.State)))\n",
        "    if problem.IsGoal(tuple(node.State)):\n",
        "      return node, nodesExpanded    ### print(node)\n",
        "    for child in Expand(problem, node):\n",
        "      s = tuple(child.State)\n",
        "      if s not in reached or child.PathCost < reached[s].PathCost:\n",
        "        reached[s] = child\n",
        "        heapq.heappush(Frontier, (f(child), child))\n",
        "    nodesExpanded += 1\n",
        "    if nodesExpanded > 500000:\n",
        "      break;\n",
        "  return None, nodesExpanded"
      ],
      "execution_count": 120,
      "outputs": []
    },
    {
      "cell_type": "markdown",
      "metadata": {
        "id": "kRjolRYslOa4"
      },
      "source": [
        "## Problem 1"
      ]
    },
    {
      "cell_type": "code",
      "metadata": {
        "colab": {
          "base_uri": "https://localhost:8080/"
        },
        "id": "dLWDIbmsRGY3",
        "outputId": "82290517-19ac-40f1-adeb-ce698ccf7587"
      },
      "source": [
        "TileSliding = Problem()\n",
        "TileSliding.INITIAL = InitialState\n",
        "TileSliding.IsGoal = lambda s: s==(1,2,3,4,5,6,7,8,9,10,11,12,13,14,15,0)\n",
        "TileSliding.Actions = Actions\n",
        "TileSliding.Result=Result\n",
        "TileSliding.ActionCost = lambda s, a, sPrime: 1\n",
        "print( TileSliding.IsGoal((1,2,3,4,5,6,7,8,9,10,11,12,13,14,15,0)) )\n",
        "print( Node(InitialState) )\n",
        "print(1+TileSliding.ActionCost(1,2,3))"
      ],
      "execution_count": 121,
      "outputs": [
        {
          "output_type": "stream",
          "name": "stdout",
          "text": [
            "True\n",
            "[1, 2, 3, 4, 5, 6, 7, 8, 13, 14, 9, 12, 10, 11, 15, 0], <none>\n",
            "2\n"
          ]
        }
      ]
    },
    {
      "cell_type": "code",
      "metadata": {
        "colab": {
          "base_uri": "https://localhost:8080/"
        },
        "id": "6VoIEO4c1gHz",
        "outputId": "39483335-0fe4-4f92-fead-8169d460a023"
      },
      "source": [
        "TileSliding.INITIAL = [1,2,3,4,5,6,7,8,13,14,9,12,10,11,15,0]\n",
        "ret, cost = BreadthFirstSearch(TileSliding)\n",
        "print (ret, cost)"
      ],
      "execution_count": 122,
      "outputs": [
        {
          "output_type": "stream",
          "name": "stdout",
          "text": [
            "(1, 2, 3, 4, 5, 6, 7, 8, 9, 10, 11, 12, 13, 14, 15, 0), r 136743\n"
          ]
        }
      ]
    },
    {
      "cell_type": "code",
      "metadata": {
        "id": "3hsBKY7Fle3w"
      },
      "source": [
        "def Solution(node):\n",
        "  if node.Parent==None:\n",
        "    return []\n",
        "  return Solution(node.Parent) + [node.Action]\n"
      ],
      "execution_count": 123,
      "outputs": []
    },
    {
      "cell_type": "code",
      "metadata": {
        "colab": {
          "base_uri": "https://localhost:8080/"
        },
        "id": "rtr7Vr84NAfY",
        "outputId": "28670ef2-d8fb-4827-e94d-6e3d3647b971"
      },
      "source": [
        "sol = Solution(ret)\n",
        "print (sol)\n",
        "print (TileSliding.INITIAL)\n",
        "print (ApplyMoves(sol, TileSliding.INITIAL))\n"
      ],
      "execution_count": 124,
      "outputs": [
        {
          "output_type": "stream",
          "name": "stdout",
          "text": [
            "['u', 'u', 'r', 'd', 'l', 'd', 'l', 'u', 'u', 'r', 'd', 'l', 'd', 'r']\n",
            "[1, 2, 3, 4, 5, 6, 7, 8, 13, 14, 9, 12, 10, 11, 15, 0]\n",
            "(1, 2, 3, 4, 5, 6, 7, 8, 9, 10, 11, 12, 13, 14, 15, 0)\n"
          ]
        }
      ]
    },
    {
      "cell_type": "code",
      "metadata": {
        "colab": {
          "base_uri": "https://localhost:8080/"
        },
        "id": "RDE3dNP8NOU7",
        "outputId": "67f45b07-8c65-4f9e-b27f-2307cc08831d"
      },
      "source": [
        "TileSliding.INITIAL = [1,2,3,4,5,6,7,8,13,14,9,12,10,11,15,0]\n",
        "ret, cost = BreadthFirstSearch(TileSliding)\n",
        "print (ret, cost)"
      ],
      "execution_count": 125,
      "outputs": [
        {
          "output_type": "stream",
          "name": "stdout",
          "text": [
            "(1, 2, 3, 4, 5, 6, 7, 8, 9, 10, 11, 12, 13, 14, 15, 0), r 136743\n"
          ]
        }
      ]
    },
    {
      "cell_type": "code",
      "metadata": {
        "colab": {
          "base_uri": "https://localhost:8080/"
        },
        "id": "YBkLupiYNyZ_",
        "outputId": "9d0c3117-69b5-42e3-848c-65433f49fc98"
      },
      "source": [
        "sol = Solution(ret)\n",
        "cost = len(sol)\n",
        "print(\"Action Sequence: \", sol)\n",
        "print(\"Before moves: \",TileSliding.INITIAL)\n",
        "print(\"After moves: \", ApplyMoves(sol, TileSliding.INITIAL))\n",
        "print(\"Cost of the action sequence:\", cost)"
      ],
      "execution_count": 126,
      "outputs": [
        {
          "output_type": "stream",
          "name": "stdout",
          "text": [
            "Action Sequence:  ['u', 'u', 'r', 'd', 'l', 'd', 'l', 'u', 'u', 'r', 'd', 'l', 'd', 'r']\n",
            "Before moves:  [1, 2, 3, 4, 5, 6, 7, 8, 13, 14, 9, 12, 10, 11, 15, 0]\n",
            "After moves:  (1, 2, 3, 4, 5, 6, 7, 8, 9, 10, 11, 12, 13, 14, 15, 0)\n",
            "Cost of the action sequence: 14\n"
          ]
        }
      ]
    }
  ]
}