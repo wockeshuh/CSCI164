{
  "cells": [
    {
      "cell_type": "markdown",
      "metadata": {
        "id": "view-in-github",
        "colab_type": "text"
      },
      "source": [
        "<a href=\"https://colab.research.google.com/github/wockeshuh/CSCI164/blob/main/c166DeepQLearning.ipynb\" target=\"_parent\"><img src=\"https://colab.research.google.com/assets/colab-badge.svg\" alt=\"Open In Colab\"/></a>"
      ]
    },
    {
      "cell_type": "code",
      "execution_count": null,
      "metadata": {
        "colab": {
          "base_uri": "https://localhost:8080/"
        },
        "id": "OJQUvyAlEC42",
        "outputId": "dd532cd3-977a-46a4-9c3d-1637192331f3"
      },
      "outputs": [
        {
          "output_type": "stream",
          "name": "stdout",
          "text": [
            "Collecting gymnasium\n",
            "  Downloading gymnasium-0.29.1-py3-none-any.whl.metadata (10 kB)\n",
            "Requirement already satisfied: numpy>=1.21.0 in /usr/local/lib/python3.10/dist-packages (from gymnasium) (1.26.4)\n",
            "Requirement already satisfied: cloudpickle>=1.2.0 in /usr/local/lib/python3.10/dist-packages (from gymnasium) (3.0.0)\n",
            "Requirement already satisfied: typing-extensions>=4.3.0 in /usr/local/lib/python3.10/dist-packages (from gymnasium) (4.12.2)\n",
            "Collecting farama-notifications>=0.0.1 (from gymnasium)\n",
            "  Downloading Farama_Notifications-0.0.4-py3-none-any.whl.metadata (558 bytes)\n",
            "Downloading gymnasium-0.29.1-py3-none-any.whl (953 kB)\n",
            "\u001b[2K   \u001b[90m━━━━━━━━━━━━━━━━━━━━━━━━━━━━━━━━━━━━━━━━\u001b[0m \u001b[32m953.9/953.9 kB\u001b[0m \u001b[31m12.4 MB/s\u001b[0m eta \u001b[36m0:00:00\u001b[0m\n",
            "\u001b[?25hDownloading Farama_Notifications-0.0.4-py3-none-any.whl (2.5 kB)\n",
            "Installing collected packages: farama-notifications, gymnasium\n",
            "Successfully installed farama-notifications-0.0.4 gymnasium-0.29.1\n"
          ]
        }
      ],
      "source": [
        "!pip install gymnasium"
      ]
    },
    {
      "cell_type": "code",
      "execution_count": null,
      "metadata": {
        "colab": {
          "base_uri": "https://localhost:8080/"
        },
        "id": "lGN-Jy0lD2g9",
        "outputId": "ec38a001-2457-4305-c072-62af6588c2e9"
      },
      "outputs": [
        {
          "output_type": "stream",
          "name": "stdout",
          "text": [
            "Num GPUs Available:  0\n",
            "Num CPUs Available:  1\n"
          ]
        }
      ],
      "source": [
        "import random, time\n",
        "from collections import deque, namedtuple\n",
        "\n",
        "import gymnasium as gym\n",
        "import numpy as np\n",
        "import tensorflow as tf\n",
        "print(\"Num GPUs Available: \", len(tf.config.list_physical_devices('GPU')))\n",
        "print(\"Num CPUs Available: \", len(tf.config.list_physical_devices('CPU')))\n",
        "\n",
        "from tqdm.auto import tqdm\n",
        "\n",
        "n_episodes = 50 # play 1000 games\n",
        "eps = 0.8  # exploration rate, probability of choosing random action\n",
        "eps_decay = 0.9900  # eps gets multiplied by this number each epoch...\n",
        "min_eps = 0.1  # ...until this minimum eps is reached\n",
        "gamma = 0.99  # discount\n",
        "max_memory_size = 10000  # size of the replay memory\n",
        "batch_size = 16  # batch size of the neural network training\n",
        "min_length = 160  # minimum length of the replay memory for training, before it reached this length, no gradient updates happen\n",
        "memory_parts = [\n",
        "    \"state\",\n",
        "    \"action\",\n",
        "    \"next_state\",\n",
        "    \"reward\",\n",
        "    \"done\",\n",
        "]  # nice names for the part of replay memory, otherweise the names are 0-5"
      ]
    },
    {
      "cell_type": "code",
      "execution_count": null,
      "metadata": {
        "colab": {
          "base_uri": "https://localhost:8080/"
        },
        "id": "xJjoVUSFZ3Yp",
        "outputId": "cf2c96e6-9bbe-4624-f5fb-8fb0274804d2"
      },
      "outputs": [
        {
          "output_type": "stream",
          "name": "stdout",
          "text": [
            "Mounted at /content/drive\n"
          ]
        }
      ],
      "source": [
        "from google.colab import drive\n",
        "drive.mount('/content/drive')"
      ]
    },
    {
      "cell_type": "markdown",
      "source": [
        "# Learning A Model"
      ],
      "metadata": {
        "id": "3RZqb4JV7Ag2"
      }
    },
    {
      "cell_type": "code",
      "execution_count": null,
      "metadata": {
        "id": "hERWxJ3jEMMH"
      },
      "outputs": [],
      "source": [
        "Memory = namedtuple(\"Memory\", memory_parts)  # a single entry of the memory replay\n",
        "\n",
        "\n",
        "class ReplayMemory:\n",
        "    def __init__(self, max_length=None):\n",
        "        self.max_length = max_length\n",
        "        self.memory = deque(maxlen=max_length)\n",
        "\n",
        "    def store(self, data):\n",
        "        self.memory.append(data)\n",
        "\n",
        "    def _sample(self, k):\n",
        "        return random.sample(self.memory, k)\n",
        "\n",
        "    def structured_sample(self, k):\n",
        "        batch = self._sample(k)\n",
        "        result = {}\n",
        "        for i, part in enumerate(memory_parts):\n",
        "            result[part] = np.array([row[i] for row in batch])\n",
        "\n",
        "        return result\n",
        "\n",
        "    def __len__(self):\n",
        "        return len(self.memory)"
      ]
    },
    {
      "cell_type": "code",
      "execution_count": null,
      "metadata": {
        "id": "AWYz3_bUETMT"
      },
      "outputs": [],
      "source": [
        "model = tf.keras.Sequential(\n",
        "    [\n",
        "        tf.keras.layers.Input(shape=(4,)),  # Define input shape with Input layer\n",
        "        tf.keras.layers.Dense(128, activation=\"relu\"),\n",
        "        tf.keras.layers.Dense(64, activation=\"relu\"),\n",
        "        tf.keras.layers.Dense(16, activation=\"relu\"),\n",
        "        tf.keras.layers.Dense(2, activation=\"linear\"),  # 2 actions: go left or go right\n",
        "    ]\n",
        ")\n",
        "model.compile(\n",
        "    loss=tf.keras.losses.MeanSquaredError(),\n",
        "    optimizer=tf.keras.optimizers.Adam(learning_rate=0.01),\n",
        ")"
      ]
    },
    {
      "cell_type": "code",
      "execution_count": null,
      "metadata": {
        "colab": {
          "base_uri": "https://localhost:8080/",
          "height": 85,
          "referenced_widgets": [
            "c8157302ebdf428295bd48dcb9afd984",
            "24ba334504e84f08987fbc5e07ce3a9b",
            "e80bf09176f7493fa621f47249f56de7",
            "a7a5fd755a6e4ad8a9daa9a6930cd1f1",
            "29857338eac54734ae2c8100ea04c0f4",
            "1d775c68d8cd4126b65af939620068ba",
            "7ae6fcdfec2f4b5b9ffd553344a1228f",
            "d4f9e80cf81d4f5e9954ebbb49c5335f",
            "cddf96899c9744fcba516cc6b7c3fa51",
            "33bcf6d2d1e84f8297466414501a6394",
            "26df5e0181ef4ca083189b7c08e5660d"
          ]
        },
        "id": "A3tUkXVAEzOI",
        "outputId": "33dd8aca-64f0-4714-fed7-d4d086fac18e"
      },
      "outputs": [
        {
          "output_type": "display_data",
          "data": {
            "text/plain": [
              "  0%|          | 0/50 [00:00<?, ?it/s]"
            ],
            "application/vnd.jupyter.widget-view+json": {
              "version_major": 2,
              "version_minor": 0,
              "model_id": "c8157302ebdf428295bd48dcb9afd984"
            }
          },
          "metadata": {}
        },
        {
          "output_type": "stream",
          "name": "stdout",
          "text": [
            "/content/drive/My Drive/my_QmodelB_0iterations.keras\n",
            "/content/drive/My Drive/my_QmodelB_49iterations.keras\n"
          ]
        }
      ],
      "source": [
        "env = gym.make(\"CartPole-v1\")\n",
        "replay_memory = ReplayMemory(max_length=max_memory_size)\n",
        "\n",
        "for episode in tqdm(range(n_episodes)):  # tqdm makes a nice proress bar\n",
        "    state, _ = env.reset()\n",
        "    done = False\n",
        "\n",
        "    while not done:\n",
        "        if random.random() < eps:\n",
        "            action = env.action_space.sample()  # random action\n",
        "        else:\n",
        "            action = model.predict(state[np.newaxis, :], verbose=False).argmax()  # best action according to the model\n",
        "\n",
        "        next_state, reward, done, _, _ = env.step(action)\n",
        "        memory = Memory(state, action, next_state, reward, done)\n",
        "        replay_memory.store(memory)\n",
        "\n",
        "        if len(replay_memory) >= min_length:\n",
        "            batch = replay_memory.structured_sample(batch_size)  # get samples from the replay memory\n",
        "\n",
        "            target_batch = batch[\"reward\"] + gamma * model.predict(batch[\"next_state\"], verbose=False).max(axis=1) * (\n",
        "                1 - batch[\"done\"]\n",
        "            )  # R(s, a) + γ·maxₐ N(s') if not a terminal state, otherwise R(s, a)\n",
        "            targets = model.predict(batch[\"state\"], verbose=False)\n",
        "            targets[\n",
        "                range(batch_size), batch[\"action\"]\n",
        "            ] = target_batch  # set the target for the action that was done and leave the outputs of other 3 actions as they are\n",
        "\n",
        "            model.fit(batch[\"state\"], targets, verbose=False, batch_size=batch_size)  # train for one epoch\n",
        "\n",
        "        state = next_state\n",
        "    if episode % 100 == 0:\n",
        "      save_path = '/content/drive/My Drive/my_QmodelB_{}iterations.keras'.format(episode)\n",
        "      print (save_path)\n",
        "      model.save(save_path)\n",
        "    eps = max(min_eps, eps * eps_decay)\n",
        "save_path = '/content/drive/My Drive/my_QmodelB_{}iterations.keras'.format(episode)\n",
        "print (save_path)\n",
        "model.save(save_path)"
      ]
    },
    {
      "cell_type": "code",
      "source": [
        "eps_decay = 0.9900\n",
        "min_eps = 0.01\n",
        "eps = 1.0\n",
        "for i in range(50):\n",
        "  eps = max(min_eps, eps * eps_decay)\n",
        "  if (i % 10==0):\n",
        "    print (i, eps)\n",
        "\n",
        "print(eps)"
      ],
      "metadata": {
        "colab": {
          "base_uri": "https://localhost:8080/"
        },
        "id": "3fqH3YTuBFo2",
        "outputId": "72db4fbb-e10e-499d-a0a5-95a9c6098a92"
      },
      "execution_count": null,
      "outputs": [
        {
          "output_type": "stream",
          "name": "stdout",
          "text": [
            "0 0.99\n",
            "10 0.8953382542587163\n",
            "20 0.8097278682212583\n",
            "30 0.7323033696543974\n",
            "40 0.6622820409839835\n",
            "0.6050060671375365\n"
          ]
        }
      ]
    },
    {
      "cell_type": "markdown",
      "source": [
        "# Test Learned Models"
      ],
      "metadata": {
        "id": "o3iVpRrR5AK9"
      }
    },
    {
      "cell_type": "code",
      "source": [
        "## Choose Model\n",
        "version = 1\n",
        "models = [(0, '1-1ZxkEknQ-_Ru-Z63oaMWiLqaSufW2kz'), (49, '1-1ZxkEknQ-_Ru-Z63oaMWiLqaSufW2kz')]\n",
        "\n",
        "!gdown {models[version][1]}\n",
        "save_path=f'my_QmodelB_{models[version][0]}iterations.keras'\n",
        "print(save_path)"
      ],
      "metadata": {
        "colab": {
          "base_uri": "https://localhost:8080/"
        },
        "id": "9rrki-w45Wsu",
        "outputId": "e4e1b211-8c5d-4e57-ffc1-8fd8bc704ef9"
      },
      "execution_count": null,
      "outputs": [
        {
          "output_type": "stream",
          "name": "stdout",
          "text": [
            "Downloading...\n",
            "From: https://drive.google.com/uc?id=1-1ZxkEknQ-_Ru-Z63oaMWiLqaSufW2kz\n",
            "To: /content/my_QmodelB_49iterations.keras\n",
            "\r  0% 0.00/148k [00:00<?, ?B/s]\r100% 148k/148k [00:00<00:00, 130MB/s]\n",
            "my_QmodelB_49iterations.keras\n"
          ]
        }
      ]
    },
    {
      "cell_type": "code",
      "source": [
        "import matplotlib.pyplot as plt\n",
        "import gymnasium as gym\n",
        "import tensorflow as tf\n",
        "\n",
        "from tensorflow.keras.models import load_model\n",
        "\n",
        "model = load_model(save_path, compile=False)\n",
        "model.compile(\n",
        "    loss=tf.keras.losses.MeanSquaredError(),\n",
        "    optimizer=tf.keras.optimizers.Adam(learning_rate=0.01),\n",
        ")"
      ],
      "metadata": {
        "id": "uovqNleA7SB4"
      },
      "execution_count": null,
      "outputs": []
    },
    {
      "cell_type": "code",
      "execution_count": null,
      "metadata": {
        "colab": {
          "base_uri": "https://localhost:8080/",
          "height": 793
        },
        "id": "_vnZPrO0W4c3",
        "outputId": "10212ff9-2015-4335-dd35-852708e3475f"
      },
      "outputs": [
        {
          "output_type": "display_data",
          "data": {
            "text/plain": [
              "<Figure size 640x480 with 1 Axes>"
            ],
            "image/png": "[encoded data removed]"
          },
          "metadata": {}
        },
        {
          "output_type": "stream",
          "name": "stdout",
          "text": [
            "action=1, total_reward=1.0\n"
          ]
        },
        {
          "output_type": "display_data",
          "data": {
            "text/plain": [
              "<Figure size 640x480 with 1 Axes>"
            ],
            "image/png": "[encoded data removed]"
          },
          "metadata": {}
        }
      ],
      "source": [
        "env = gym.make(\"CartPole-v1\", render_mode=\"rgb_array\")\n",
        "state, _ = env.reset()\n",
        "done = False\n",
        "total_reward = 0\n",
        "state_image=env.render()\n",
        "plt.imshow(state_image)\n",
        "plt.show()\n",
        "\n",
        "state_image=env.render()\n",
        "action = model.predict(state[np.newaxis, :], verbose=False).argmax(axis=1)[0]\n",
        "state, reward, done, _, _ = env.step(action)\n",
        "total_reward += reward\n",
        "print (f\"{action=}, {total_reward=}\")\n",
        "state_image=env.render()\n",
        "plt.imshow(state_image)\n",
        "plt.show()"
      ]
    },
    {
      "cell_type": "code",
      "source": [
        "env = gym.make(\"CartPole-v1\", render_mode=\"human\")\n",
        "\n",
        "state, _ = env.reset()\n",
        "done = False\n",
        "total_reward = 0\n",
        "\n",
        "while not done and total_reward < 500:  # force end the game after 500 time steps because the model is too good!\n",
        "    env.render()\n",
        "    action = model.predict(state[np.newaxis, :], verbose=False).argmax(axis=1)[0]\n",
        "    state, reward, done, _, _ = env.step(action)\n",
        "    total_reward += reward\n",
        "\n",
        "env.close()\n",
        "print (f\"{total_reward=}\")"
      ],
      "metadata": {
        "colab": {
          "base_uri": "https://localhost:8080/"
        },
        "id": "dBZ3Dkjf67DV",
        "outputId": "613b96fb-9087-41b9-a306-f6af8c6747b2"
      },
      "execution_count": null,
      "outputs": [
        {
          "output_type": "stream",
          "name": "stdout",
          "text": [
            "total_reward=85.0\n"
          ]
        }
      ]
    },
    {
      "cell_type": "code",
      "execution_count": null,
      "metadata": {
        "id": "-zerAhDxXOC6"
      },
      "outputs": [],
      "source": [
        "env.close()"
      ]
    },
    {
      "cell_type": "markdown",
      "source": [
        "The first thing I did was reduce the number of episodes. For 1000 episodes it was taking about a hour to compile. I changed the number of episodes to 150. After doing this I was able to get a reward of 69 which wasn't good at all. I decided to reduced it even further to 50 episodes and modified the gamma to see if that would help get a better reward. However, it did not. I think increasing the gamma didn't help because the agent has less time to explore with 50 episodes. I then changed the epsilon decay value to 0.9900. This helped the reward increase from 41 to 85. Lowering the value means the agent explores less. The fact that the reward increased could mean that the agent found a good policy and kept using it."
      ],
      "metadata": {
        "id": "YZKZ913W2d7r"
      }
    }
  ],
  "metadata": {
    "colab": {
      "provenance": [],
      "machine_shape": "hm",
      "gpuType": "V28",
      "include_colab_link": true
    },
    "kernelspec": {
      "display_name": "Python 3",
      "name": "python3"
    },
    "language_info": {
      "name": "python"
    },
    "widgets": {
      "application/vnd.jupyter.widget-state+json": {
        "c8157302ebdf428295bd48dcb9afd984": {
          "model_module": "@jupyter-widgets/controls",
          "model_name": "HBoxModel",
          "model_module_version": "1.5.0",
          "state": {
            "_dom_classes": [],
            "_model_module": "@jupyter-widgets/controls",
            "_model_module_version": "1.5.0",
            "_model_name": "HBoxModel",
            "_view_count": null,
            "_view_module": "@jupyter-widgets/controls",
            "_view_module_version": "1.5.0",
            "_view_name": "HBoxView",
            "box_style": "",
            "children": [
              "IPY_MODEL_24ba334504e84f08987fbc5e07ce3a9b",
              "IPY_MODEL_e80bf09176f7493fa621f47249f56de7",
              "IPY_MODEL_a7a5fd755a6e4ad8a9daa9a6930cd1f1"
            ],
            "layout": "IPY_MODEL_29857338eac54734ae2c8100ea04c0f4"
          }
        },
        "24ba334504e84f08987fbc5e07ce3a9b": {
          "model_module": "@jupyter-widgets/controls",
          "model_name": "HTMLModel",
          "model_module_version": "1.5.0",
          "state": {
            "_dom_classes": [],
            "_model_module": "@jupyter-widgets/controls",
            "_model_module_version": "1.5.0",
            "_model_name": "HTMLModel",
            "_view_count": null,
            "_view_module": "@jupyter-widgets/controls",
            "_view_module_version": "1.5.0",
            "_view_name": "HTMLView",
            "description": "",
            "description_tooltip": null,
            "layout": "IPY_MODEL_1d775c68d8cd4126b65af939620068ba",
            "placeholder": "​",
            "style": "IPY_MODEL_7ae6fcdfec2f4b5b9ffd553344a1228f",
            "value": "100%"
          }
        },
        "e80bf09176f7493fa621f47249f56de7": {
          "model_module": "@jupyter-widgets/controls",
          "model_name": "FloatProgressModel",
          "model_module_version": "1.5.0",
          "state": {
            "_dom_classes": [],
            "_model_module": "@jupyter-widgets/controls",
            "_model_module_version": "1.5.0",
            "_model_name": "FloatProgressModel",
            "_view_count": null,
            "_view_module": "@jupyter-widgets/controls",
            "_view_module_version": "1.5.0",
            "_view_name": "ProgressView",
            "bar_style": "success",
            "description": "",
            "description_tooltip": null,
            "layout": "IPY_MODEL_d4f9e80cf81d4f5e9954ebbb49c5335f",
            "max": 50,
            "min": 0,
            "orientation": "horizontal",
            "style": "IPY_MODEL_cddf96899c9744fcba516cc6b7c3fa51",
            "value": 50
          }
        },
        "a7a5fd755a6e4ad8a9daa9a6930cd1f1": {
          "model_module": "@jupyter-widgets/controls",
          "model_name": "HTMLModel",
          "model_module_version": "1.5.0",
          "state": {
            "_dom_classes": [],
            "_model_module": "@jupyter-widgets/controls",
            "_model_module_version": "1.5.0",
            "_model_name": "HTMLModel",
            "_view_count": null,
            "_view_module": "@jupyter-widgets/controls",
            "_view_module_version": "1.5.0",
            "_view_name": "HTMLView",
            "description": "",
            "description_tooltip": null,
            "layout": "IPY_MODEL_33bcf6d2d1e84f8297466414501a6394",
            "placeholder": "​",
            "style": "IPY_MODEL_26df5e0181ef4ca083189b7c08e5660d",
            "value": " 50/50 [05:31&lt;00:00, 14.35s/it]"
          }
        },
        "29857338eac54734ae2c8100ea04c0f4": {
          "model_module": "@jupyter-widgets/base",
          "model_name": "LayoutModel",
          "model_module_version": "1.2.0",
          "state": {
            "_model_module": "@jupyter-widgets/base",
            "_model_module_version": "1.2.0",
            "_model_name": "LayoutModel",
            "_view_count": null,
            "_view_module": "@jupyter-widgets/base",
            "_view_module_version": "1.2.0",
            "_view_name": "LayoutView",
            "align_content": null,
            "align_items": null,
            "align_self": null,
            "border": null,
            "bottom": null,
            "display": null,
            "flex": null,
            "flex_flow": null,
            "grid_area": null,
            "grid_auto_columns": null,
            "grid_auto_flow": null,
            "grid_auto_rows": null,
            "grid_column": null,
            "grid_gap": null,
            "grid_row": null,
            "grid_template_areas": null,
            "grid_template_columns": null,
            "grid_template_rows": null,
            "height": null,
            "justify_content": null,
            "justify_items": null,
            "left": null,
            "margin": null,
            "max_height": null,
            "max_width": null,
            "min_height": null,
            "min_width": null,
            "object_fit": null,
            "object_position": null,
            "order": null,
            "overflow": null,
            "overflow_x": null,
            "overflow_y": null,
            "padding": null,
            "right": null,
            "top": null,
            "visibility": null,
            "width": null
          }
        },
        "1d775c68d8cd4126b65af939620068ba": {
          "model_module": "@jupyter-widgets/base",
          "model_name": "LayoutModel",
          "model_module_version": "1.2.0",
          "state": {
            "_model_module": "@jupyter-widgets/base",
            "_model_module_version": "1.2.0",
            "_model_name": "LayoutModel",
            "_view_count": null,
            "_view_module": "@jupyter-widgets/base",
            "_view_module_version": "1.2.0",
            "_view_name": "LayoutView",
            "align_content": null,
            "align_items": null,
            "align_self": null,
            "border": null,
            "bottom": null,
            "display": null,
            "flex": null,
            "flex_flow": null,
            "grid_area": null,
            "grid_auto_columns": null,
            "grid_auto_flow": null,
            "grid_auto_rows": null,
            "grid_column": null,
            "grid_gap": null,
            "grid_row": null,
            "grid_template_areas": null,
            "grid_template_columns": null,
            "grid_template_rows": null,
            "height": null,
            "justify_content": null,
            "justify_items": null,
            "left": null,
            "margin": null,
            "max_height": null,
            "max_width": null,
            "min_height": null,
            "min_width": null,
            "object_fit": null,
            "object_position": null,
            "order": null,
            "overflow": null,
            "overflow_x": null,
            "overflow_y": null,
            "padding": null,
            "right": null,
            "top": null,
            "visibility": null,
            "width": null
          }
        },
        "7ae6fcdfec2f4b5b9ffd553344a1228f": {
          "model_module": "@jupyter-widgets/controls",
          "model_name": "DescriptionStyleModel",
          "model_module_version": "1.5.0",
          "state": {
            "_model_module": "@jupyter-widgets/controls",
            "_model_module_version": "1.5.0",
            "_model_name": "DescriptionStyleModel",
            "_view_count": null,
            "_view_module": "@jupyter-widgets/base",
            "_view_module_version": "1.2.0",
            "_view_name": "StyleView",
            "description_width": ""
          }
        },
        "d4f9e80cf81d4f5e9954ebbb49c5335f": {
          "model_module": "@jupyter-widgets/base",
          "model_name": "LayoutModel",
          "model_module_version": "1.2.0",
          "state": {
            "_model_module": "@jupyter-widgets/base",
            "_model_module_version": "1.2.0",
            "_model_name": "LayoutModel",
            "_view_count": null,
            "_view_module": "@jupyter-widgets/base",
            "_view_module_version": "1.2.0",
            "_view_name": "LayoutView",
            "align_content": null,
            "align_items": null,
            "align_self": null,
            "border": null,
            "bottom": null,
            "display": null,
            "flex": null,
            "flex_flow": null,
            "grid_area": null,
            "grid_auto_columns": null,
            "grid_auto_flow": null,
            "grid_auto_rows": null,
            "grid_column": null,
            "grid_gap": null,
            "grid_row": null,
            "grid_template_areas": null,
            "grid_template_columns": null,
            "grid_template_rows": null,
            "height": null,
            "justify_content": null,
            "justify_items": null,
            "left": null,
            "margin": null,
            "max_height": null,
            "max_width": null,
            "min_height": null,
            "min_width": null,
            "object_fit": null,
            "object_position": null,
            "order": null,
            "overflow": null,
            "overflow_x": null,
            "overflow_y": null,
            "padding": null,
            "right": null,
            "top": null,
            "visibility": null,
            "width": null
          }
        },
        "cddf96899c9744fcba516cc6b7c3fa51": {
          "model_module": "@jupyter-widgets/controls",
          "model_name": "ProgressStyleModel",
          "model_module_version": "1.5.0",
          "state": {
            "_model_module": "@jupyter-widgets/controls",
            "_model_module_version": "1.5.0",
            "_model_name": "ProgressStyleModel",
            "_view_count": null,
            "_view_module": "@jupyter-widgets/base",
            "_view_module_version": "1.2.0",
            "_view_name": "StyleView",
            "bar_color": null,
            "description_width": ""
          }
        },
        "33bcf6d2d1e84f8297466414501a6394": {
          "model_module": "@jupyter-widgets/base",
          "model_name": "LayoutModel",
          "model_module_version": "1.2.0",
          "state": {
            "_model_module": "@jupyter-widgets/base",
            "_model_module_version": "1.2.0",
            "_model_name": "LayoutModel",
            "_view_count": null,
            "_view_module": "@jupyter-widgets/base",
            "_view_module_version": "1.2.0",
            "_view_name": "LayoutView",
            "align_content": null,
            "align_items": null,
            "align_self": null,
            "border": null,
            "bottom": null,
            "display": null,
            "flex": null,
            "flex_flow": null,
            "grid_area": null,
            "grid_auto_columns": null,
            "grid_auto_flow": null,
            "grid_auto_rows": null,
            "grid_column": null,
            "grid_gap": null,
            "grid_row": null,
            "grid_template_areas": null,
            "grid_template_columns": null,
            "grid_template_rows": null,
            "height": null,
            "justify_content": null,
            "justify_items": null,
            "left": null,
            "margin": null,
            "max_height": null,
            "max_width": null,
            "min_height": null,
            "min_width": null,
            "object_fit": null,
            "object_position": null,
            "order": null,
            "overflow": null,
            "overflow_x": null,
            "overflow_y": null,
            "padding": null,
            "right": null,
            "top": null,
            "visibility": null,
            "width": null
          }
        },
        "26df5e0181ef4ca083189b7c08e5660d": {
          "model_module": "@jupyter-widgets/controls",
          "model_name": "DescriptionStyleModel",
          "model_module_version": "1.5.0",
          "state": {
            "_model_module": "@jupyter-widgets/controls",
            "_model_module_version": "1.5.0",
            "_model_name": "DescriptionStyleModel",
            "_view_count": null,
            "_view_module": "@jupyter-widgets/base",
            "_view_module_version": "1.2.0",
            "_view_name": "StyleView",
            "description_width": ""
          }
        }
      }
    },
    "accelerator": "TPU"
  },
  "nbformat": 4,
  "nbformat_minor": 0
}